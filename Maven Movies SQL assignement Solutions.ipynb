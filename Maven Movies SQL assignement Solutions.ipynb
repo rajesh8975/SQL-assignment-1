{
  "0": {
    "identify the primary keys and foreign keys in maven movies db Discuss the differences": "SELECT * FROM information_schema.key_column_usage;"
  },
  "1": {
    "List all details of actorsy": "SELECT * FROM actor;"
  },
  "2": {
    "List all customer information from DB.": "SELECT * FROM customer;"
  },
  "3": {
    "List different countries": "SELECT DISTINCT country FROM country;"
  },
  "4": {
    "Display all active customers": "SELECT customer_id, first_name, last_name, email FROM customer WHERE active = 1;"
  },
  "5": {
    "List of all rental IDs for customer with ID 1": "SELECT rental_id FROM rental WHERE customer_id = 1;"
  },
  "6": {
    "Display all the films whose rental duration is greater than 5": "SELECT film_id, title FROM film WHERE rental_duration > 5;"
  },
  "7": {
    "List the total number of films whose replacement cost is greater than $15 and less than $20.": "SELECT COUNT(*) FROM film WHERE replacement_cost > 15 AND replacement_cost < 20;"
  },
  "8": {
    "Display the count of unique first names of actors": "SELECT COUNT(DISTINCT first_name) FROM actor;"
  },
  "9": {
    "Display the first 10 records from the customer table": "SELECT * FROM customer LIMIT 10;"
  },
  "10": {
    "Display the first 3 records from the customer table whose first name starts with b": "SELECT * FROM customer WHERE first_name LIKE 'b%' LIMIT 3;"
  },
  "11": {
    "Display the names of the first 5 movies which are rated as G": "SELECT title FROM film WHERE rating = 'G' LIMIT 5;"
  },
  "12": {
    "Find all customers whose first name starts with a": "SELECT * FROM customer WHERE first_name LIKE 'a%';"
  },
  "13": {
    "Display the list of first 4 cities which start and end with a": "SELECT * FROM customer WHERE first_name LIKE '%a';"
  },
  "14": {
    "Display the list of first 4 cities which start and end with a": "SELECT city FROM city WHERE city LIKE 'a%%a' LIMIT 4;"
  },
  "15": {
    "Find all customers whose first name have NI in any position": "SELECT * FROM customer WHERE first_name LIKE 'ni%';"
  },
  "16": {
    "Find all customers whose first name have r in the second position": "SELECT first_name FROM customer WHERE first_name LIKE '_r%';"
  },
  "17": {
    "Find all customers whose first name starts with a and are at least 5 characters in lengt": "SELECT first_name FROM customer WHERE first_name LIKE 'a____%';"
  },
  "18": {
    "Find all customers whose first name starts with a and ends with o": "SELECT first_name FROM customer WHERE first_name LIKE 'a%o';"
  },
  "19": {
    "Get the films with pg and pg-13 rating using IN operator": "SELECT title FROM film WHERE rating IN ('PG', 'PG-13');"
  },
  "20": {
    "Get the films with length between 50 to 100 using between operato": "SELECT * FROM film WHERE length BETWEEN 50 AND 100;"
  },
  "21": {
    "Get the top 50 actors using limit operator": "SELECT * FROM actor LIMIT 50;"
  },
  "22": {
    "Get the distinct film ids from inventory table": "SELECT DISTINCT film_id FROM inventory;"
  },
  "cells": [
    {
      "cell_type": "code",
      "execution_count": 1,
      "metadata": {},
      "outputs": [
        {
          "ename": "TypeError",
          "evalue": "unhashable type: 'dict'",
          "output_type": "error",
          "traceback": [
            "\u001b[1;31m---------------------------------------------------------------------------\u001b[0m",
            "\u001b[1;31mTypeError\u001b[0m                                 Traceback (most recent call last)",
            "Cell \u001b[1;32mIn[1], line 1\u001b[0m\n\u001b[1;32m----> 1\u001b[0m {\n\u001b[0;32m      2\u001b[0m {\n\u001b[0;32m      3\u001b[0m \u001b[38;5;124m\"\u001b[39m\u001b[38;5;124midentify the primary keys and foreign keys in maven movies db Discuss the differences\u001b[39m\u001b[38;5;124m\"\u001b[39m: \u001b[38;5;124m\"\u001b[39m\u001b[38;5;124mSELECT * FROM information_schema.key_column_usage;\u001b[39m\u001b[38;5;124m\"\u001b[39m\n\u001b[0;32m      4\u001b[0m },\n\u001b[0;32m      5\u001b[0m {\n\u001b[0;32m      6\u001b[0m \u001b[38;5;124m\"\u001b[39m\u001b[38;5;124mList all details of actorsy\u001b[39m\u001b[38;5;124m\"\u001b[39m: \u001b[38;5;124m\"\u001b[39m\u001b[38;5;124mSELECT * FROM actor;\u001b[39m\u001b[38;5;124m\"\u001b[39m\n\u001b[0;32m      7\u001b[0m },\n\u001b[0;32m      8\u001b[0m {\n\u001b[0;32m      9\u001b[0m \u001b[38;5;124m\"\u001b[39m\u001b[38;5;124mList all customer information from DB.\u001b[39m\u001b[38;5;124m\"\u001b[39m: \u001b[38;5;124m\"\u001b[39m\u001b[38;5;124mSELECT * FROM customer;\u001b[39m\u001b[38;5;124m\"\u001b[39m\n\u001b[0;32m     10\u001b[0m },\n\u001b[0;32m     11\u001b[0m {\n\u001b[0;32m     12\u001b[0m \u001b[38;5;124m\"\u001b[39m\u001b[38;5;124mList different countries\u001b[39m\u001b[38;5;124m\"\u001b[39m: \u001b[38;5;124m\"\u001b[39m\u001b[38;5;124mSELECT DISTINCT country FROM country;\u001b[39m\u001b[38;5;124m\"\u001b[39m\n\u001b[0;32m     13\u001b[0m },\n\u001b[0;32m     14\u001b[0m {\n\u001b[0;32m     15\u001b[0m \u001b[38;5;124m\"\u001b[39m\u001b[38;5;124mDisplay all active customers\u001b[39m\u001b[38;5;124m\"\u001b[39m: \u001b[38;5;124m\"\u001b[39m\u001b[38;5;124mSELECT customer_id, first_name, last_name, email FROM customer WHERE active = 1;\u001b[39m\u001b[38;5;124m\"\u001b[39m\n\u001b[0;32m     16\u001b[0m },\n\u001b[0;32m     17\u001b[0m {\n\u001b[0;32m     18\u001b[0m \u001b[38;5;124m\"\u001b[39m\u001b[38;5;124mList of all rental IDs for customer with ID 1\u001b[39m\u001b[38;5;124m\"\u001b[39m: \u001b[38;5;124m\"\u001b[39m\u001b[38;5;124mSELECT rental_id FROM rental WHERE customer_id = 1;\u001b[39m\u001b[38;5;124m\"\u001b[39m\n\u001b[0;32m     19\u001b[0m },\n\u001b[0;32m     20\u001b[0m {\n\u001b[0;32m     21\u001b[0m \u001b[38;5;124m\"\u001b[39m\u001b[38;5;124mDisplay all the films whose rental duration is greater than 5\u001b[39m\u001b[38;5;124m\"\u001b[39m: \u001b[38;5;124m\"\u001b[39m\u001b[38;5;124mSELECT film_id, title FROM film WHERE rental_duration > 5;\u001b[39m\u001b[38;5;124m\"\u001b[39m\n\u001b[0;32m     22\u001b[0m },\n\u001b[0;32m     23\u001b[0m {\n\u001b[0;32m     24\u001b[0m \u001b[38;5;124m\"\u001b[39m\u001b[38;5;124mList the total number of films whose replacement cost is greater than $15 and less than $20.\u001b[39m\u001b[38;5;124m\"\u001b[39m: \u001b[38;5;124m\"\u001b[39m\u001b[38;5;124mSELECT COUNT(*) FROM film WHERE replacement_cost > 15 AND replacement_cost < 20;\u001b[39m\u001b[38;5;124m\"\u001b[39m\n\u001b[0;32m     25\u001b[0m },\n\u001b[0;32m     26\u001b[0m {\n\u001b[0;32m     27\u001b[0m \u001b[38;5;124m\"\u001b[39m\u001b[38;5;124mDisplay the count of unique first names of actors\u001b[39m\u001b[38;5;124m\"\u001b[39m: \u001b[38;5;124m\"\u001b[39m\u001b[38;5;124mSELECT COUNT(DISTINCT first_name) FROM actor;\u001b[39m\u001b[38;5;124m\"\u001b[39m\n\u001b[0;32m     28\u001b[0m },\n\u001b[0;32m     29\u001b[0m {\n\u001b[0;32m     30\u001b[0m \u001b[38;5;124m\"\u001b[39m\u001b[38;5;124mDisplay the first 10 records from the customer table\u001b[39m\u001b[38;5;124m\"\u001b[39m: \u001b[38;5;124m\"\u001b[39m\u001b[38;5;124mSELECT * FROM customer LIMIT 10;\u001b[39m\u001b[38;5;124m\"\u001b[39m\n\u001b[0;32m     31\u001b[0m },\n\u001b[0;32m     32\u001b[0m {\n\u001b[0;32m     33\u001b[0m \u001b[38;5;124m\"\u001b[39m\u001b[38;5;124mDisplay the first 3 records from the customer table whose first name starts with b\u001b[39m\u001b[38;5;124m\"\u001b[39m: \u001b[38;5;124m\"\u001b[39m\u001b[38;5;124mSELECT * FROM customer WHERE first_name LIKE \u001b[39m\u001b[38;5;124m'\u001b[39m\u001b[38;5;124mb\u001b[39m\u001b[38;5;124m%\u001b[39m\u001b[38;5;124m'\u001b[39m\u001b[38;5;124m LIMIT 3;\u001b[39m\u001b[38;5;124m\"\u001b[39m\n\u001b[0;32m     34\u001b[0m },\n\u001b[0;32m     35\u001b[0m {\n\u001b[0;32m     36\u001b[0m \u001b[38;5;124m\"\u001b[39m\u001b[38;5;124mDisplay the names of the first 5 movies which are rated as G\u001b[39m\u001b[38;5;124m\"\u001b[39m: \u001b[38;5;124m\"\u001b[39m\u001b[38;5;124mSELECT title FROM film WHERE rating = \u001b[39m\u001b[38;5;124m'\u001b[39m\u001b[38;5;124mG\u001b[39m\u001b[38;5;124m'\u001b[39m\u001b[38;5;124m LIMIT 5;\u001b[39m\u001b[38;5;124m\"\u001b[39m\n\u001b[0;32m     37\u001b[0m },\n\u001b[0;32m     38\u001b[0m {\n\u001b[0;32m     39\u001b[0m \u001b[38;5;124m\"\u001b[39m\u001b[38;5;124mFind all customers whose first name starts with a\u001b[39m\u001b[38;5;124m\"\u001b[39m: \u001b[38;5;124m\"\u001b[39m\u001b[38;5;124mSELECT * FROM customer WHERE first_name LIKE \u001b[39m\u001b[38;5;124m'\u001b[39m\u001b[38;5;124ma\u001b[39m\u001b[38;5;124m%\u001b[39m\u001b[38;5;124m'\u001b[39m\u001b[38;5;124m;\u001b[39m\u001b[38;5;124m\"\u001b[39m\n\u001b[0;32m     40\u001b[0m },\n\u001b[0;32m     41\u001b[0m {\n\u001b[0;32m     42\u001b[0m \u001b[38;5;124m\"\u001b[39m\u001b[38;5;124mDisplay the list of first 4 cities which start and end with a\u001b[39m\u001b[38;5;124m\"\u001b[39m: \u001b[38;5;124m\"\u001b[39m\u001b[38;5;124mSELECT * FROM customer WHERE first_name LIKE \u001b[39m\u001b[38;5;124m'\u001b[39m\u001b[38;5;132;01m%a\u001b[39;00m\u001b[38;5;124m'\u001b[39m\u001b[38;5;124m;\u001b[39m\u001b[38;5;124m\"\u001b[39m\n\u001b[0;32m     43\u001b[0m },\n\u001b[0;32m     44\u001b[0m {\n\u001b[0;32m     45\u001b[0m \u001b[38;5;124m\"\u001b[39m\u001b[38;5;124mDisplay the list of first 4 cities which start and end with a\u001b[39m\u001b[38;5;124m\"\u001b[39m: \u001b[38;5;124m\"\u001b[39m\u001b[38;5;124mSELECT city FROM city WHERE city LIKE \u001b[39m\u001b[38;5;124m'\u001b[39m\u001b[38;5;124ma\u001b[39m\u001b[38;5;132;01m%%\u001b[39;00m\u001b[38;5;124ma\u001b[39m\u001b[38;5;124m'\u001b[39m\u001b[38;5;124m LIMIT 4;\u001b[39m\u001b[38;5;124m\"\u001b[39m\n\u001b[0;32m     46\u001b[0m },\n\u001b[0;32m     47\u001b[0m {\n\u001b[0;32m     48\u001b[0m \u001b[38;5;124m\"\u001b[39m\u001b[38;5;124mFind all customers whose first name have NI in any position\u001b[39m\u001b[38;5;124m\"\u001b[39m: \u001b[38;5;124m\"\u001b[39m\u001b[38;5;124mSELECT * FROM customer WHERE first_name LIKE \u001b[39m\u001b[38;5;124m'\u001b[39m\u001b[38;5;124mni\u001b[39m\u001b[38;5;124m%\u001b[39m\u001b[38;5;124m'\u001b[39m\u001b[38;5;124m;\u001b[39m\u001b[38;5;124m\"\u001b[39m\n\u001b[0;32m     49\u001b[0m },\n\u001b[0;32m     50\u001b[0m {\n\u001b[0;32m     51\u001b[0m \u001b[38;5;124m\"\u001b[39m\u001b[38;5;124mFind all customers whose first name have r in the second position\u001b[39m\u001b[38;5;124m\"\u001b[39m: \u001b[38;5;124m\"\u001b[39m\u001b[38;5;124mSELECT first_name FROM customer WHERE first_name LIKE \u001b[39m\u001b[38;5;124m'\u001b[39m\u001b[38;5;124m_r\u001b[39m\u001b[38;5;124m%\u001b[39m\u001b[38;5;124m'\u001b[39m\u001b[38;5;124m;\u001b[39m\u001b[38;5;124m\"\u001b[39m\n\u001b[0;32m     52\u001b[0m },\n\u001b[0;32m     53\u001b[0m {\n\u001b[0;32m     54\u001b[0m \u001b[38;5;124m\"\u001b[39m\u001b[38;5;124mFind all customers whose first name starts with a and are at least 5 characters in lengt\u001b[39m\u001b[38;5;124m\"\u001b[39m: \u001b[38;5;124m\"\u001b[39m\u001b[38;5;124mSELECT first_name FROM customer WHERE first_name LIKE \u001b[39m\u001b[38;5;124m'\u001b[39m\u001b[38;5;124ma____\u001b[39m\u001b[38;5;124m%\u001b[39m\u001b[38;5;124m'\u001b[39m\u001b[38;5;124m;\u001b[39m\u001b[38;5;124m\"\u001b[39m\n\u001b[0;32m     55\u001b[0m },\n\u001b[0;32m     56\u001b[0m {\n\u001b[0;32m     57\u001b[0m \u001b[38;5;124m\"\u001b[39m\u001b[38;5;124mFind all customers whose first name starts with a and ends with o\u001b[39m\u001b[38;5;124m\"\u001b[39m: \u001b[38;5;124m\"\u001b[39m\u001b[38;5;124mSELECT first_name FROM customer WHERE first_name LIKE \u001b[39m\u001b[38;5;124m'\u001b[39m\u001b[38;5;124ma\u001b[39m\u001b[38;5;132;01m%o\u001b[39;00m\u001b[38;5;124m'\u001b[39m\u001b[38;5;124m;\u001b[39m\u001b[38;5;124m\"\u001b[39m\n\u001b[0;32m     58\u001b[0m },\n\u001b[0;32m     59\u001b[0m {\n\u001b[0;32m     60\u001b[0m \u001b[38;5;124m\"\u001b[39m\u001b[38;5;124mGet the films with pg and pg-13 rating using IN operator\u001b[39m\u001b[38;5;124m\"\u001b[39m: \u001b[38;5;124m\"\u001b[39m\u001b[38;5;124mSELECT title FROM film WHERE rating IN (\u001b[39m\u001b[38;5;124m'\u001b[39m\u001b[38;5;124mPG\u001b[39m\u001b[38;5;124m'\u001b[39m\u001b[38;5;124m, \u001b[39m\u001b[38;5;124m'\u001b[39m\u001b[38;5;124mPG-13\u001b[39m\u001b[38;5;124m'\u001b[39m\u001b[38;5;124m);\u001b[39m\u001b[38;5;124m\"\u001b[39m\n\u001b[0;32m     61\u001b[0m },\n\u001b[0;32m     62\u001b[0m {\n\u001b[0;32m     63\u001b[0m \u001b[38;5;124m\"\u001b[39m\u001b[38;5;124mGet the films with length between 50 to 100 using between operato\u001b[39m\u001b[38;5;124m\"\u001b[39m: \u001b[38;5;124m\"\u001b[39m\u001b[38;5;124mSELECT * FROM film WHERE length BETWEEN 50 AND 100;\u001b[39m\u001b[38;5;124m\"\u001b[39m\n\u001b[0;32m     64\u001b[0m },\n\u001b[0;32m     65\u001b[0m {\n\u001b[0;32m     66\u001b[0m \u001b[38;5;124m\"\u001b[39m\u001b[38;5;124mGet the top 50 actors using limit operator\u001b[39m\u001b[38;5;124m\"\u001b[39m: \u001b[38;5;124m\"\u001b[39m\u001b[38;5;124mSELECT * FROM actor LIMIT 50;\u001b[39m\u001b[38;5;124m\"\u001b[39m\n\u001b[0;32m     67\u001b[0m },\n\u001b[0;32m     68\u001b[0m {\n\u001b[0;32m     69\u001b[0m \u001b[38;5;124m\"\u001b[39m\u001b[38;5;124mGet the distinct film ids from inventory table\u001b[39m\u001b[38;5;124m\"\u001b[39m: \u001b[38;5;124m\"\u001b[39m\u001b[38;5;124mSELECT DISTINCT film_id FROM inventory;\u001b[39m\u001b[38;5;124m\"\u001b[39m\n\u001b[0;32m     70\u001b[0m },\n\u001b[0;32m     71\u001b[0m \n\u001b[0;32m     72\u001b[0m }\n",
            "\u001b[1;31mTypeError\u001b[0m: unhashable type: 'dict'"
          ]
        }
      ],
      "source": [
        "{\n",
        "{\n",
        "\"identify the primary keys and foreign keys in maven movies db Discuss the differences\": \"SELECT * FROM information_schema.key_column_usage;\"\n",
        "},\n",
        "{\n",
        "\"List all details of actor\": \"SELECT * FROM actor;\"\n",
        "},\n",
        "{\n",
        "\"List all customer information from DB.\": \"SELECT * FROM customer;\"\n",
        "},\n",
        "{\n",
        "\"List different countries\": \"SELECT DISTINCT country FROM country;\"\n",
        "},\n",
        "{\n",
        "\"Display all active customers\": \"SELECT customer_id, first_name, last_name, email FROM customer WHERE active = 1;\"\n",
        "},\n",
        "{\n",
        "\"List of all rental IDs for customer with ID 1\": \"SELECT rental_id FROM rental WHERE customer_id = 1;\"\n",
        "},\n",
        "{\n",
        "\"Display all the films whose rental duration is greater than 5\": \"SELECT film_id, title FROM film WHERE rental_duration > 5;\"\n",
        "},\n",
        "{\n",
        "\"List the total number of films whose replacement cost is greater than $15 and less than $20.\": \"SELECT COUNT(*) FROM film WHERE replacement_cost > 15 AND replacement_cost < 20;\"\n",
        "},\n",
        "{\n",
        "\"Display the count of unique first names of actors\": \"SELECT COUNT(DISTINCT first_name) FROM actor;\"\n",
        "},\n",
        "{\n",
        "\"Display the first 10 records from the customer table\": \"SELECT * FROM customer LIMIT 10;\"\n",
        "},\n",
        "{\n",
        "\"Display the first 3 records from the customer table whose first name starts with b\": \"SELECT * FROM customer WHERE first_name LIKE 'b%' LIMIT 3;\"\n",
        "},\n",
        "{\n",
        "\"Display the names of the first 5 movies which are rated as G\": \"SELECT title FROM film WHERE rating = 'G' LIMIT 5;\"\n",
        "},\n",
        "{\n",
        "\"Find all customers whose first name starts with a\": \"SELECT * FROM customer WHERE first_name LIKE 'a%';\"\n",
        "},\n",
        "{\n",
        "\"Display the list of first 4 cities which start and end with a\": \"SELECT * FROM customer WHERE first_name LIKE '%a';\"\n",
        "},\n",
        "{\n",
        "\"Display the list of first 4 cities which start and end with a\": \"SELECT city FROM city WHERE city LIKE 'a%%a' LIMIT 4;\"\n",
        "},\n",
        "{\n",
        "\"Find all customers whose first name have NI in any position\": \"SELECT * FROM customer WHERE first_name LIKE 'ni%';\"\n",
        "},\n",
        "{\n",
        "\"Find all customers whose first name have r in the second position\": \"SELECT first_name FROM customer WHERE first_name LIKE '_r%';\"\n",
        "},\n",
        "{\n",
        "\"Find all customers whose first name starts with a and are at least 5 characters in lengt\": \"SELECT first_name FROM customer WHERE first_name LIKE 'a____%';\"\n",
        "},\n",
        "{\n",
        "\"Find all customers whose first name starts with a and ends with o\": \"SELECT first_name FROM customer WHERE first_name LIKE 'a%o';\"\n",
        "},\n",
        "{\n",
        "\"Get the films with pg and pg-13 rating using IN operator\": \"SELECT title FROM film WHERE rating IN ('PG', 'PG-13');\"\n",
        "},\n",
        "{\n",
        "\"Get the films with length between 50 to 100 using between operato\": \"SELECT * FROM film WHERE length BETWEEN 50 AND 100;\"\n",
        "},\n",
        "{\n",
        "\"Get the top 50 actors using limit operator\": \"SELECT * FROM actor LIMIT 50;\"\n",
        "},\n",
        "{\n",
        "\"Get the distinct film ids from inventory table\" \"SELECT DISTINCT film_id FROM inventory;\"\n",
        "},\n",
        "\n",
        "}\n"
      ]
    }
  ],
  "metadata": {
    "kernelspec": {
      "display_name": "Python 3",
      "language": "python",
      "name": "python3"
    },
    "language_info": {
      "codemirror_mode": {
        "name": "ipython",
        "version": 3
      },
      "file_extension": ".py",
      "mimetype": "text/x-python",
      "name": "python",
      "nbconvert_exporter": "python",
      "pygments_lexer": "ipython3",
      "version": "3.12.0"
    }
  },
  "nbformat": 4,
  "nbformat_minor": 2
}
